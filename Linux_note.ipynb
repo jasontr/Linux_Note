{
 "cells": [
  {
   "cell_type": "markdown",
   "metadata": {},
   "source": [
    "# Linux 学习笔记\n",
    "## I. 简介\n",
    "1. Linux 一切皆文件，硬件，用户也是以文件保存。\n",
    "2. Linux 不需要文件扩展名，但是常用格式添加扩展名提高可读性，和便于系统辅助编辑。\n",
    "3. Linux 严格区分大小写"
   ]
  },
  {
   "cell_type": "code",
   "execution_count": 1,
   "metadata": {
    "collapsed": false
   },
   "outputs": [
    {
     "name": "stdout",
     "output_type": "stream",
     "text": [
      "\u001b[0m\u001b[01;34mjason\u001b[0m  \u001b[01;34mJason\u001b[0m  Linux_note.ipynb\r\n"
     ]
    }
   ],
   "source": [
    "%example\n",
    "mkdir Jason\n",
    "mkdir jason\n",
    "ls"
   ]
  },
  {
   "cell_type": "markdown",
   "metadata": {},
   "source": [
    "## II. 分区  \n",
    "1. 主分区最多四个\n",
    "2. 扩展分区可以再细分逻辑\n",
    "3. 由于主分区挂载点(对应windows的盘符概念)是1, 2, 3, 4, 所以逻辑分区是从5号起始"
   ]
  },
  {
   "cell_type": "markdown",
   "metadata": {},
   "source": [
    "## III. 命令  \n",
    "### 1. 命令的基本格式\n",
    "命令 [选项] [参数]"
   ]
  },
  {
   "cell_type": "code",
   "execution_count": 2,
   "metadata": {
    "collapsed": false
   },
   "outputs": [
    {
     "name": "stdout",
     "output_type": "stream",
     "text": [
      "total 16\r\n",
      "drwxrwxr-x 2 jason jason 4096 12月  6 01:38 \u001b[0m\u001b[01;34mjason\u001b[0m\r\n",
      "drwxrwxr-x 2 jason jason 4096 12月  6 01:38 \u001b[01;34mJason\u001b[0m\r\n",
      "-rw-rw-r-- 1 jason jason 7701 12月  6 01:37 Linux_note.ipynb\r\n"
     ]
    }
   ],
   "source": [
    "%example\n",
    "%command   option   param\n",
    "ls         -l       ./"
   ]
  },
  {
   "cell_type": "markdown",
   "metadata": {},
   "source": [
    "### 2. ls命令\n",
    "选项:  \n",
    "`-a` 显示所有文件，包括隐藏(隐藏文件用 .开头， eg: .tcshrc)  \n",
    "`-l` 显示详细信息  \n",
    "`-d` 查看目录属性  \n",
    "`-h` 人性化显示文件大小  \n",
    "`-i` 显示inode  "
   ]
  },
  {
   "cell_type": "code",
   "execution_count": 3,
   "metadata": {
    "collapsed": false
   },
   "outputs": [
    {
     "name": "stdout",
     "output_type": "stream",
     "text": [
      "total 16\r\n",
      "drwxrwxr-x 2 jason jason 4096 12月  6 01:38 \u001b[0m\u001b[01;34mjason\u001b[0m\r\n",
      "drwxrwxr-x 2 jason jason 4096 12月  6 01:38 \u001b[01;34mJason\u001b[0m\r\n",
      "-rw-rw-r-- 1 jason jason 7701 12月  6 01:37 Linux_note.ipynb\r\n"
     ]
    }
   ],
   "source": [
    "%example\n",
    "ls -l"
   ]
  },
  {
   "cell_type": "markdown",
   "metadata": {},
   "source": [
    "#### 对ls -l的解析\n",
    "以下面一条为例  \n",
    "> <font color=\"red\">-</font><font color=\"blue\">rw-rw-r--</font> 1 jason jason 2448 12月  6 00:57 Linux_note.ipynb  \n",
    "\n",
    "1. 第一位(红色)代表文件类型（-文件 d目录 l软连接文件（等同与windows快捷方式）等等）　　\n",
    "2. 之后九位规划权限，三位一组分别指代  \n",
    "        u所有者（rw-） g所属组（rw-） o其他人（r--）  \n",
    "    三类用户对文件的权限: r读 w写 x执行  \n",
    "3. 第九位随后的　.指代ACL权限\n",
    "4. 1 指代文件被调用次数\n",
    "5. 第一个jason 代表文件所有者为jason 第二个jason代表所属用户组是jason\n",
    "6. 2448指代文件大小 单位是字节。以kb为单位显示的话用 ls -lh。\n",
    "7. 之后是修改时间和文件名"
   ]
  },
  {
   "cell_type": "code",
   "execution_count": 4,
   "metadata": {
    "collapsed": false
   },
   "outputs": [
    {
     "name": "stdout",
     "output_type": "stream",
     "text": [
      "total 16K\r\n",
      "drwxrwxr-x 2 jason jason 4.0K 12月  6 01:38 \u001b[0m\u001b[01;34mjason\u001b[0m\r\n",
      "drwxrwxr-x 2 jason jason 4.0K 12月  6 01:38 \u001b[01;34mJason\u001b[0m\r\n",
      "-rw-rw-r-- 1 jason jason 7.6K 12月  6 01:37 Linux_note.ipynb\r\n"
     ]
    }
   ],
   "source": [
    "%6. 的例子, 文件大小应以kb为单位显示\n",
    "ls -lh"
   ]
  },
  {
   "cell_type": "markdown",
   "metadata": {},
   "source": [
    "### 3. 目录处理命令\n",
    "+ mkdir 创建目录命令 若创建多级目录添加 -p 选项"
   ]
  },
  {
   "cell_type": "code",
   "execution_count": 5,
   "metadata": {
    "collapsed": false
   },
   "outputs": [
    {
     "name": "stdout",
     "output_type": "stream",
     "text": [
      "mkdir: cannot create directory ‘nily/nily1’: No such file or directory\r\n"
     ]
    }
   ],
   "source": [
    "%wrong example\n",
    "%由于nily文件夹不存在nily1无法创建\n",
    "mkdir nily/nily1"
   ]
  },
  {
   "cell_type": "code",
   "execution_count": 6,
   "metadata": {
    "collapsed": false
   },
   "outputs": [
    {
     "name": "stdout",
     "output_type": "stream",
     "text": [
      "total 12\r\n",
      "drwxrwxr-x 3 jason jason 4096 12月  6 01:38 \u001b[0m\u001b[01;34m.\u001b[0m/\r\n",
      "drwxrwxr-x 6 jason jason 4096 12月  6 01:38 \u001b[01;34m..\u001b[0m/\r\n",
      "drwxrwxr-x 2 jason jason 4096 12月  6 01:38 \u001b[01;34mnily1\u001b[0m/\r\n"
     ]
    }
   ],
   "source": [
    "%correct example\n",
    "mkdir -p nily/nily1\n",
    "ls -l ./nily\n",
    "%ls -l 也可写作 ll\n",
    "ll ./nily"
   ]
  },
  {
   "cell_type": "markdown",
   "metadata": {},
   "source": [
    "+ cd 访问目录命令  \n",
    "     `cd -` 回到上次目录  \n",
    "+ rmdir 只能删除空文件夹  \n",
    "+ rm 删除操作  \n",
    "    选项:\n",
    "        -r 对目录操作(删除目录)  \n",
    "        -f 强制(不加会询问是否删除)\n",
    "+ cp 拷贝命令\n",
    "    格式 cp [选项] [源文件或目录] [目标目录(\\文件名)]  \n",
    "    选项：\n",
    "        -r 复制目录\n",
    "        -p 连带文件属性复制 (不带的话，拷贝后的文件的修改时间是cp操作的时间)\n",
    "        -d 若源文件是链接文件，则复制链接属性\n",
    "        -a 相当于 -pdr  \n",
    "+ mv 移动或改名命令  \n",
    "    格式 mv [源文件或目录] [目标目录]  \n",
    "    若在同一目录下mv 且生成新文件名相当于重命名"
   ]
  },
  {
   "cell_type": "markdown",
   "metadata": {},
   "source": [
    "### 4. Linux常见目录作用\n",
    "\n",
    "1. /bin     |     /sbin    |     /usr/bin    |    /usr/sbin  \n",
    "    用来保存系统命令，/sbin超级用户才能使用，/bin一般用户命令  \n",
    "    /usr 系统软件资源目录 \n",
    "2. /dev        特殊文件保存目录\n",
    "3. /etc         配置文件目录\n",
    "4. /home     普通用户home目录  \n",
    "    /root        超级用户home目录\n",
    "5. /lib           函数库保存位置\n",
    "6. /media    |    /mnt    |    /misc  \n",
    "    空目录，用来挂载外接设备\n",
    "7. /proc    |    /sys\n",
    "    保存内存挂载点，不能直接操作\n",
    "8. /tmp        临时目录\n",
    "9. /var         系统相关文档内容"
   ]
  },
  {
   "cell_type": "code",
   "execution_count": null,
   "metadata": {
    "collapsed": true
   },
   "outputs": [],
   "source": []
  }
 ],
 "metadata": {
  "kernelspec": {
   "display_name": "Bash",
   "language": "bash",
   "name": "bash"
  },
  "language_info": {
   "codemirror_mode": "shell",
   "file_extension": ".sh",
   "mimetype": "text/x-sh",
   "name": "bash"
  }
 },
 "nbformat": 4,
 "nbformat_minor": 0
}
